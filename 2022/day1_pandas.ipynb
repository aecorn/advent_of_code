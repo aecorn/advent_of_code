{
 "cells": [
  {
   "cell_type": "code",
   "execution_count": 54,
   "id": "6521fa23-3f7f-4975-9431-7d9c45ad2df9",
   "metadata": {},
   "outputs": [],
   "source": [
    "import pandas as pd"
   ]
  },
  {
   "cell_type": "code",
   "execution_count": 55,
   "id": "2dcbfb46-d9b4-4e7b-8a29-71f919dc366f",
   "metadata": {
    "tags": []
   },
   "outputs": [],
   "source": [
    "inp = \"\"\"1000\n",
    "2000\n",
    "3000\n",
    "\n",
    "4000\n",
    "\n",
    "5000\n",
    "6000\n",
    "\n",
    "7000\n",
    "8000\n",
    "9000\n",
    "\n",
    "10000\"\"\""
   ]
  },
  {
   "cell_type": "code",
   "execution_count": 56,
   "id": "6e282934-61fc-4584-a2f4-925dfbe3ae14",
   "metadata": {},
   "outputs": [],
   "source": [
    "df = pd.read_table(\"data/day1_long.txt\", header = None, skip_blank_lines=False)"
   ]
  },
  {
   "cell_type": "code",
   "execution_count": 57,
   "id": "3f0d4493-4ccf-49f0-9800-74676c2bd11e",
   "metadata": {},
   "outputs": [],
   "source": [
    "df.columns = [\"nums\"]"
   ]
  },
  {
   "cell_type": "code",
   "execution_count": 58,
   "id": "dfb46d95-035b-4254-be5f-c7016053aa25",
   "metadata": {},
   "outputs": [],
   "source": [
    "df[\"group\"] = (df[\"nums\"]\n",
    "               .isna()\n",
    "               .astype(int)\n",
    "               .cumsum())\n",
    "df = df.dropna(subset=[\"nums\"])"
   ]
  },
  {
   "cell_type": "code",
   "execution_count": 58,
   "id": "9bd61ffb-97ba-46bf-8ad0-1fa41038ea44",
   "metadata": {},
   "outputs": [
    {
     "data": {
      "text/plain": [
       "66719"
      ]
     },
     "execution_count": 58,
     "metadata": {},
     "output_type": "execute_result"
    }
   ],
   "source": [
    "# Task1\n",
    "int(df\n",
    "    .groupby(\"group\")\n",
    "    .agg({\"nums\": sum})\n",
    "    .max())"
   ]
  },
  {
   "cell_type": "code",
   "execution_count": 59,
   "id": "0cf58308-391f-4a49-97d9-0da5dea7d847",
   "metadata": {},
   "outputs": [
    {
     "data": {
      "text/plain": [
       "198551"
      ]
     },
     "execution_count": 59,
     "metadata": {},
     "output_type": "execute_result"
    }
   ],
   "source": [
    "# Task 2\n",
    "int(df.groupby(\"group\")\n",
    "    .agg({\"nums\": sum})\n",
    "    .sort_values(\"nums\", ascending = False)\n",
    "    .iloc[:3]\n",
    "    .sum())"
   ]
  }
 ],
 "metadata": {
  "kernelspec": {
   "display_name": "Python 3 (ipykernel)",
   "language": "python",
   "name": "python3"
  },
  "language_info": {
   "codemirror_mode": {
    "name": "ipython",
    "version": 3
   },
   "file_extension": ".py",
   "mimetype": "text/x-python",
   "name": "python",
   "nbconvert_exporter": "python",
   "pygments_lexer": "ipython3",
   "version": "3.10.8"
  }
 },
 "nbformat": 4,
 "nbformat_minor": 5
}
