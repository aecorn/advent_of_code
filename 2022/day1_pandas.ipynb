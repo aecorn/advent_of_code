{
 "cells": [
  {
   "cell_type": "code",
   "execution_count": 54,
   "id": "6521fa23-3f7f-4975-9431-7d9c45ad2df9",
   "metadata": {},
   "outputs": [],
   "source": [
    "import pandas as pd"
   ]
  },
  {
   "cell_type": "code",
   "execution_count": 55,
   "id": "2dcbfb46-d9b4-4e7b-8a29-71f919dc366f",
   "metadata": {
    "jupyter": {
     "source_hidden": true
    },
    "tags": []
   },
   "outputs": [],
   "source": [
    "inp = \"\"\"1000\n",
    "2000\n",
    "3000\n",
    "\n",
    "4000\n",
    "\n",
    "5000\n",
    "6000\n",
    "\n",
    "7000\n",
    "8000\n",
    "9000\n",
    "\n",
    "10000\"\"\""
   ]
  },
  {
   "cell_type": "code",
   "execution_count": 94,
   "id": "dfb46d95-035b-4254-be5f-c7016053aa25",
   "metadata": {},
   "outputs": [],
   "source": [
    "df = (pd.read_table(\"data/day1_long.txt\", \n",
    "                    header = None, \n",
    "                    skip_blank_lines=False)\n",
    "      .rename(columns={0: \"nums\"})\n",
    "      .assign(\n",
    "    group=(lambda x: x[\"nums\"]\n",
    "           .isna()\n",
    "           .astype(int)\n",
    "           .cumsum()))\n",
    "      .dropna(subset=[\"nums\"])\n",
    "      .groupby(\"group\")\n",
    "      .agg({\"nums\": sum})\n",
    "      .sort_values(\"nums\",\n",
    "                   ascending=False)\n",
    "     )"
   ]
  },
  {
   "cell_type": "code",
   "execution_count": 95,
   "id": "9bd61ffb-97ba-46bf-8ad0-1fa41038ea44",
   "metadata": {},
   "outputs": [
    {
     "data": {
      "text/plain": [
       "66719"
      ]
     },
     "execution_count": 95,
     "metadata": {},
     "output_type": "execute_result"
    }
   ],
   "source": [
    "# Task1\n",
    "int(df[\"nums\"].max())"
   ]
  },
  {
   "cell_type": "code",
   "execution_count": 96,
   "id": "c340a73e-ee1b-4aef-8902-78d22fda0f9b",
   "metadata": {},
   "outputs": [
    {
     "data": {
      "text/plain": [
       "198551"
      ]
     },
     "execution_count": 96,
     "metadata": {},
     "output_type": "execute_result"
    }
   ],
   "source": [
    "int(df.iloc[:3].sum())"
   ]
  }
 ],
 "metadata": {
  "kernelspec": {
   "display_name": "Python 3 (ipykernel)",
   "language": "python",
   "name": "python3"
  },
  "language_info": {
   "codemirror_mode": {
    "name": "ipython",
    "version": 3
   },
   "file_extension": ".py",
   "mimetype": "text/x-python",
   "name": "python",
   "nbconvert_exporter": "python",
   "pygments_lexer": "ipython3",
   "version": "3.10.8"
  }
 },
 "nbformat": 4,
 "nbformat_minor": 5
}
