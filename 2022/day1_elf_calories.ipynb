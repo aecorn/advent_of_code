{
 "cells": [
  {
   "cell_type": "markdown",
   "id": "ab17eb8a-09a6-4965-9998-5627c0ce1f2b",
   "metadata": {},
   "source": [
    "## Task one, total max calories one elf is carrying"
   ]
  },
  {
   "cell_type": "code",
   "execution_count": 22,
   "id": "c7c9ca5a-24be-439c-b0f9-22843a908e99",
   "metadata": {
    "tags": []
   },
   "outputs": [],
   "source": [
    "input_short = \"\"\"1000\n",
    "2000\n",
    "3000\n",
    "\n",
    "4000\n",
    "\n",
    "5000\n",
    "6000\n",
    "\n",
    "7000\n",
    "8000\n",
    "9000\n",
    "\n",
    "10000\"\"\""
   ]
  },
  {
   "cell_type": "code",
   "execution_count": 6,
   "id": "2597476e-a63b-4017-9746-03a738182dc9",
   "metadata": {},
   "outputs": [],
   "source": [
    "def elf_all_calories(inp: str) -> int:\n",
    "    all_elfs = []\n",
    "    elf = []\n",
    "    for row in inp.split(\"\\n\"):\n",
    "        if row:\n",
    "            elf += [int(row)]\n",
    "        else:\n",
    "            all_elfs += [elf]\n",
    "            elf = []\n",
    "    return [sum(elf) for elf in all_elfs]"
   ]
  },
  {
   "cell_type": "code",
   "execution_count": 28,
   "id": "a29b6c9d-82b1-499c-9e61-8e1d7d1ce378",
   "metadata": {},
   "outputs": [
    {
     "data": {
      "text/plain": [
       "24000"
      ]
     },
     "execution_count": 28,
     "metadata": {},
     "output_type": "execute_result"
    }
   ],
   "source": [
    "max(elf_all_calories(input_short))"
   ]
  },
  {
   "cell_type": "code",
   "execution_count": 4,
   "id": "c9fa1fa1-fa6f-48f1-9451-d218f0c3c078",
   "metadata": {},
   "outputs": [],
   "source": [
    "with open(\"day1_input_long.txt\", \"r\") as input_long_file:\n",
    "    input_long = input_long_file.read()"
   ]
  },
  {
   "cell_type": "code",
   "execution_count": 7,
   "id": "6310702c-ab6e-4462-a468-17aa4fd90b80",
   "metadata": {},
   "outputs": [
    {
     "data": {
      "text/plain": [
       "66719"
      ]
     },
     "execution_count": 7,
     "metadata": {},
     "output_type": "execute_result"
    }
   ],
   "source": [
    "max(elf_all_calories(input_long))"
   ]
  },
  {
   "cell_type": "markdown",
   "id": "f89eeb97-7eb2-4f3a-bd5c-29e7370b7844",
   "metadata": {},
   "source": [
    "## Task two, sum of top three elfs"
   ]
  },
  {
   "cell_type": "code",
   "execution_count": 8,
   "id": "674893ee-ac1a-46e7-8363-099978124bd4",
   "metadata": {},
   "outputs": [
    {
     "data": {
      "text/plain": [
       "198551"
      ]
     },
     "execution_count": 8,
     "metadata": {},
     "output_type": "execute_result"
    }
   ],
   "source": [
    "sum(sorted(elf_all_calories(input_long))[-3:])"
   ]
  }
 ],
 "metadata": {
  "kernelspec": {
   "display_name": "Python 3 (ipykernel)",
   "language": "python",
   "name": "python3"
  },
  "language_info": {
   "codemirror_mode": {
    "name": "ipython",
    "version": 3
   },
   "file_extension": ".py",
   "mimetype": "text/x-python",
   "name": "python",
   "nbconvert_exporter": "python",
   "pygments_lexer": "ipython3",
   "version": "3.10.6"
  }
 },
 "nbformat": 4,
 "nbformat_minor": 5
}
