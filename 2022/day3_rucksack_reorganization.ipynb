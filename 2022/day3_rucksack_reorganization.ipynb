{
 "cells": [
  {
   "cell_type": "code",
   "execution_count": 8,
   "id": "e5a7fa1b-2fbe-402c-b6ab-d02ef03f6d56",
   "metadata": {},
   "outputs": [],
   "source": [
    "score_map1 = {chr(k): v for k, v in zip(range(ord('a'), ord('z')+1), range(1,27))}\n",
    "score_map2 = {chr(k): v for k, v in zip(range(ord('A'), ord('Z')+1), range(27,53))}\n",
    "score_map = {**score_map1, **score_map2}"
   ]
  },
  {
   "cell_type": "code",
   "execution_count": 9,
   "id": "b815f793-79d2-46ab-98b5-408c8803f5b8",
   "metadata": {},
   "outputs": [],
   "source": [
    "inp = \"\"\"vJrwpWtwJgWrhcsFMMfFFhFp\n",
    "jqHRNqRjqzjGDLGLrsFMfFZSrLrFZsSL\n",
    "PmmdzqPrVvPwwTWBwg\n",
    "wMqvLMZHhHMvwLHjbvcjnnSBnvTQFn\n",
    "ttgJtRGJQctTZtZT\n",
    "CrZsJsPPZsGzwwsLwLmpwMDw\"\"\""
   ]
  },
  {
   "cell_type": "code",
   "execution_count": 10,
   "id": "c726b76b-9ddf-409c-a9e0-96b96d6315ae",
   "metadata": {},
   "outputs": [],
   "source": [
    "with open(\"data/day3_long.txt\", \"r\") as inp_long:\n",
    "    inp = inp_long.read()"
   ]
  },
  {
   "cell_type": "code",
   "execution_count": 11,
   "id": "155b45a9-69c5-47ae-af63-061b026a7cf7",
   "metadata": {},
   "outputs": [
    {
     "name": "stdout",
     "output_type": "stream",
     "text": [
      "Task1: 7824, Task2: 2798\n"
     ]
    }
   ],
   "source": [
    "total_prio = 0\n",
    "total_badges = 0\n",
    "sacks = inp.split(\"\\n\")\n",
    "for sack in sacks:\n",
    "    sack = sack.strip()\n",
    "    half = len(sack) // 2\n",
    "    overlap = [c for c in sack[:half] if c in sack[half:]][0]\n",
    "    total_prio += score_map[overlap]\n",
    "for grp in range(0, len(sacks), 3):\n",
    "    grp_sacks = sacks[grp:grp+3]\n",
    "    badge = [c for c in grp_sacks[0] if c in grp_sacks[1] and c in grp_sacks[2]]\n",
    "    score = score_map[badge[0]]\n",
    "    total_badges += score\n",
    "print(f\"Task1: {total_prio}, Task2: {total_badges}\")"
   ]
  },
  {
   "cell_type": "code",
   "execution_count": null,
   "id": "85837bc9-673b-4cb0-b0c5-87262cb777b4",
   "metadata": {},
   "outputs": [],
   "source": []
  }
 ],
 "metadata": {
  "kernelspec": {
   "display_name": "Python 3 (ipykernel)",
   "language": "python",
   "name": "python3"
  },
  "language_info": {
   "codemirror_mode": {
    "name": "ipython",
    "version": 3
   },
   "file_extension": ".py",
   "mimetype": "text/x-python",
   "name": "python",
   "nbconvert_exporter": "python",
   "pygments_lexer": "ipython3",
   "version": "3.10.8"
  }
 },
 "nbformat": 4,
 "nbformat_minor": 5
}
