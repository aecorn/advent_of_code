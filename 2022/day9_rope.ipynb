{
 "cells": [
  {
   "cell_type": "code",
   "execution_count": 45,
   "id": "c372f310-4136-44f2-8575-b5061d07aa82",
   "metadata": {},
   "outputs": [],
   "source": [
    "inp = \"\"\"R 4\n",
    "U 4\n",
    "L 3\n",
    "D 1\n",
    "R 4\n",
    "D 1\n",
    "L 5\n",
    "R 2\"\"\""
   ]
  },
  {
   "cell_type": "code",
   "execution_count": 96,
   "id": "1ed69e90-3467-42c5-9eff-56ca96052872",
   "metadata": {},
   "outputs": [],
   "source": [
    "with open(\"data/day9_long.txt\", \"r\") as inp_long:\n",
    "    inp = inp_long.read()"
   ]
  },
  {
   "cell_type": "code",
   "execution_count": 97,
   "id": "13997e06-1593-4977-9c90-bd9d535371ab",
   "metadata": {},
   "outputs": [],
   "source": [
    "inp = [[l.split(\" \")[0], int(l.split(\" \")[1])] for l in inp.split(\"\\n\")]"
   ]
  },
  {
   "cell_type": "code",
   "execution_count": 98,
   "id": "002bc19b-d036-4326-9e72-0c4413803c4e",
   "metadata": {},
   "outputs": [
    {
     "name": "stdout",
     "output_type": "stream",
     "text": [
      "-137 -477 190 78\n"
     ]
    }
   ],
   "source": [
    "# find board size\n",
    "min_x, min_y, max_x, max_y, posx, posy = 0, 0, 0, 0, 0, 0\n",
    "for move in inp:\n",
    "    if move[0] == 'R':\n",
    "        posx += move[1]\n",
    "    elif move[0] == 'L':\n",
    "        posx -= move[1]\n",
    "    elif move[0] == 'U':\n",
    "        posy += move[1]\n",
    "    elif move[0] == 'D':\n",
    "        posy -= move[1]\n",
    "    if max_x < posx:\n",
    "        max_x = posx\n",
    "    if min_x > posx:\n",
    "        min_x = posx\n",
    "    if max_y < posy:\n",
    "        max_y = posy\n",
    "    if min_y > posy:\n",
    "        min_y = posy\n",
    "print(min_x, min_y, max_x, max_y)"
   ]
  },
  {
   "cell_type": "code",
   "execution_count": 99,
   "id": "c4fa1d77-78d8-4cc6-8f26-54025c58d486",
   "metadata": {},
   "outputs": [
    {
     "name": "stdout",
     "output_type": "stream",
     "text": [
      "556 328\n"
     ]
    }
   ],
   "source": [
    "# Normalize size\n",
    "height = max_y - min_y + 1\n",
    "width = max_x - min_x + 1\n",
    "print(height, width)"
   ]
  },
  {
   "cell_type": "code",
   "execution_count": 100,
   "id": "4a802d77-5f0f-439c-8903-3be743329644",
   "metadata": {},
   "outputs": [
    {
     "name": "stdout",
     "output_type": "stream",
     "text": [
      "137 477\n"
     ]
    }
   ],
   "source": [
    "# Start position\n",
    "start_x = -min_x\n",
    "start_y = -min_y\n",
    "print(start_x, start_y)"
   ]
  },
  {
   "cell_type": "code",
   "execution_count": 51,
   "id": "4edddb56-d7dc-482c-a8df-4dc38414e855",
   "metadata": {},
   "outputs": [
    {
     "name": "stdout",
     "output_type": "stream",
     "text": [
      "height=556, width=328\n"
     ]
    }
   ],
   "source": [
    "print(f'{height=}, {width=}')\n",
    "board = [[\"-\"]*width for _ in range(height)]\n",
    "board_visited = [x[:] for x in board]"
   ]
  },
  {
   "cell_type": "code",
   "execution_count": 58,
   "id": "e987e172-25fa-4df0-9599-d24ae1a037ad",
   "metadata": {},
   "outputs": [],
   "source": [
    "def tail_pos_update(Hx, Hy, Tx, Ty):\n",
    "    # update tail position\n",
    "    # none-moves\n",
    "    Hx_close = [Hx-1, Hx, Hx+1]\n",
    "    Hy_close = [Hy-1, Hy, Hy+1]\n",
    "    if (Tx in Hx_close and Ty in Hy_close):\n",
    "        pass\n",
    "    # non-diagonal\n",
    "    elif Tx == Hx:\n",
    "        if Ty > Hy:\n",
    "            Ty = Hy+1\n",
    "        elif Ty < Hy:\n",
    "            Ty = Hy-1\n",
    "    elif Ty == Hy:\n",
    "        if Tx > Hx:\n",
    "            Tx = Hx+1\n",
    "        elif Tx < Hx:\n",
    "            Tx = Hx-1\n",
    "    # diagonal\n",
    "    else:\n",
    "        if Tx > Hx:\n",
    "            Tx -= 1\n",
    "        elif Tx < Hx:\n",
    "            Tx += 1\n",
    "        if Ty > Hy:\n",
    "            Ty -= 1\n",
    "        elif Ty < Hy:\n",
    "            Ty += 1\n",
    "    return [Tx, Ty]"
   ]
  },
  {
   "cell_type": "markdown",
   "id": "548cd7f1-c6cc-4dc2-99ca-4aa5ac5be0c2",
   "metadata": {},
   "source": [
    "### Task1"
   ]
  },
  {
   "cell_type": "code",
   "execution_count": 41,
   "id": "21ccc696-b709-4923-b6df-526b33c24e4b",
   "metadata": {},
   "outputs": [
    {
     "name": "stdout",
     "output_type": "stream",
     "text": [
      "6642\n"
     ]
    }
   ],
   "source": [
    "Hx, Hy, Tx, Ty = start_x, start_y, start_x, start_y\n",
    "for move in inp:\n",
    "    for _ in range(move[1]):\n",
    "        board[height-Hy-1][Hx] = '-'\n",
    "        board[height-Ty-1][Tx] = '-'\n",
    "        if move[0] == \"R\":\n",
    "            Hx += 1\n",
    "        elif move[0] == \"L\":\n",
    "            Hx -= 1\n",
    "        elif move[0] == \"U\":\n",
    "            Hy += 1\n",
    "        elif move[0] == \"D\":\n",
    "            Hy -= 1\n",
    "        Tx, Ty = tail_pos_update(Hx, Hy, Tx, Ty)\n",
    "\n",
    "        board[height-Ty-1][Tx] = \"T\"\n",
    "        board[height-Hy-1][Hx] = \"H\"\n",
    "        board_visited[height-Ty-1][Tx] = \"#\"\n",
    "        #for row in board:\n",
    "        #    print(\"\".join(row))\n",
    "        #print(\"H\", (Hx, Hy), \"T\", (Tx, Ty), move)\n",
    "        #print(\"H\", (Hx, Hy), move)\n",
    "visited = 0\n",
    "for row in board_visited:\n",
    "    #print(\"\".join(row))\n",
    "    visited += len([x for x in row if x == \"#\"])\n",
    "print(visited)"
   ]
  },
  {
   "cell_type": "markdown",
   "id": "ce91300a-9c48-4c9d-8997-3d672ec9df01",
   "metadata": {},
   "source": [
    "### Task2"
   ]
  },
  {
   "cell_type": "code",
   "execution_count": 102,
   "id": "8f8d7820-e352-416e-a0cf-fa785eb95408",
   "metadata": {},
   "outputs": [],
   "source": [
    "board = [[\"-\"]*width for _ in range(height)]\n",
    "board_visited = [x[:] for x in board]"
   ]
  },
  {
   "cell_type": "code",
   "execution_count": 103,
   "id": "de6298ce-af59-4e5f-ae8c-7a33e9452317",
   "metadata": {},
   "outputs": [
    {
     "name": "stdout",
     "output_type": "stream",
     "text": [
      "[[137, 477], [137, 477], [137, 477], [137, 477], [137, 477], [137, 477], [137, 477], [137, 477], [137, 477], [137, 477]]\n"
     ]
    }
   ],
   "source": [
    "positions = [[start_x, start_y] for _ in range(10)]\n",
    "print(positions)"
   ]
  },
  {
   "cell_type": "code",
   "execution_count": 104,
   "id": "293ee2b5-eb89-403d-845a-d36580809d85",
   "metadata": {},
   "outputs": [],
   "source": [
    "for move in inp:\n",
    "    for _ in range(move[1]):\n",
    "        pos_last = positions[0]\n",
    "        if move[0] == \"R\":\n",
    "            positions[0][0] += 1\n",
    "        elif move[0] == \"L\":\n",
    "            positions[0][0] -= 1\n",
    "        elif move[0] == \"U\":\n",
    "            positions[0][1] += 1\n",
    "        elif move[0] == \"D\":\n",
    "            positions[0][1] -= 1\n",
    "        for i, pos in enumerate(positions[1:],1):\n",
    "            #print(i)\n",
    "            positions[i] = tail_pos_update(positions[i-1][0], \n",
    "                                           positions[i-1][1], \n",
    "                                           positions[i][0],\n",
    "                                           positions[i][1])\n",
    "        #print(positions)\n",
    "        board_visited[height-positions[9][1]-1][positions[9][0]] = \"#\""
   ]
  },
  {
   "cell_type": "code",
   "execution_count": 106,
   "id": "2701c5bf-b7c2-4fa5-8495-cf3861f99533",
   "metadata": {},
   "outputs": [
    {
     "name": "stdout",
     "output_type": "stream",
     "text": [
      "2765\n"
     ]
    }
   ],
   "source": [
    "visited = 0\n",
    "for row in board_visited:\n",
    "    #print(\"\".join(row))\n",
    "    visited += len([x for x in row if x == \"#\"])\n",
    "print(visited)"
   ]
  },
  {
   "cell_type": "code",
   "execution_count": null,
   "id": "b03484d9-b38b-4940-a5ea-2b02562a1844",
   "metadata": {},
   "outputs": [],
   "source": []
  }
 ],
 "metadata": {
  "kernelspec": {
   "display_name": "Python 3 (ipykernel)",
   "language": "python",
   "name": "python3"
  },
  "language_info": {
   "codemirror_mode": {
    "name": "ipython",
    "version": 3
   },
   "file_extension": ".py",
   "mimetype": "text/x-python",
   "name": "python",
   "nbconvert_exporter": "python",
   "pygments_lexer": "ipython3",
   "version": "3.10.8"
  }
 },
 "nbformat": 4,
 "nbformat_minor": 5
}
