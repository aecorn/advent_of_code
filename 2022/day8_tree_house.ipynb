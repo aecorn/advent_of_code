{
 "cells": [
  {
   "cell_type": "code",
   "execution_count": 34,
   "id": "3bfa2d86-2a97-4a12-b617-4444096ba895",
   "metadata": {},
   "outputs": [],
   "source": [
    "inp = \"\"\"30373\n",
    "25512\n",
    "65332\n",
    "33549\n",
    "35390\"\"\"\n",
    "inp = inp.split(\"\\n\")"
   ]
  },
  {
   "cell_type": "code",
   "execution_count": 67,
   "id": "1b71a1f7-8615-4752-b456-e3e9275601b5",
   "metadata": {},
   "outputs": [],
   "source": [
    "def visible_up(x, y, inp):\n",
    "    for i, ylook in enumerate(range(y-1, -1, -1)):\n",
    "        #print(ylook)\n",
    "        if int(inp[ylook][x]) >= int(inp[y][x]):\n",
    "            return False, i + 1\n",
    "    return True, i + 1"
   ]
  },
  {
   "cell_type": "code",
   "execution_count": 68,
   "id": "4e8d8576-77d8-4d9c-b6f3-44c17fc78235",
   "metadata": {},
   "outputs": [],
   "source": [
    "def visible_down(x, y, inp):\n",
    "    for i, ylook in enumerate(range(y+1, len(inp))):\n",
    "        #print(ylook)\n",
    "        if int(inp[ylook][x]) >= int(inp[y][x]):\n",
    "            return False, i + 1\n",
    "    return True, i + 1"
   ]
  },
  {
   "cell_type": "code",
   "execution_count": 69,
   "id": "6bbb6c64-cffd-41ea-bf2e-c627db657ebb",
   "metadata": {},
   "outputs": [],
   "source": [
    "def visible_right(x, y, inp):\n",
    "    for i, xlook in enumerate(range(x+1, len(inp[0]))):\n",
    "        #print(xlook)\n",
    "        if int(inp[y][xlook]) >= int(inp[y][x]):\n",
    "            return False, i + 1\n",
    "    return True, i + 1"
   ]
  },
  {
   "cell_type": "code",
   "execution_count": 70,
   "id": "fd84fb59-18b8-4abc-80f3-e54e6b1da409",
   "metadata": {},
   "outputs": [],
   "source": [
    "def visible_left(x, y, inp):\n",
    "    for i, xlook in enumerate(range(x-1, -1, -1)):\n",
    "        #print(xlook)\n",
    "        if int(inp[y][xlook]) >= int(inp[y][x]):\n",
    "            return False, i + 1\n",
    "    return True, i + 1"
   ]
  },
  {
   "cell_type": "code",
   "execution_count": 71,
   "id": "712de188-46f7-4c51-a5c3-fafe168824a9",
   "metadata": {},
   "outputs": [
    {
     "name": "stdout",
     "output_type": "stream",
     "text": [
      "Task1: 1711\n",
      "Task2: 301392\n"
     ]
    }
   ],
   "source": [
    "width = len(inp[0])\n",
    "height = len(inp)\n",
    "total_visible = (width*2) + (height*2) - 4\n",
    "scores = [[0] * width  for y in range(height)]\n",
    "for x in range(1, width-1):\n",
    "    for y in range(1, height-1):\n",
    "        up = visible_up(x, y, inp)\n",
    "        down = visible_down(x, y, inp)\n",
    "        right = visible_right(x, y, inp)\n",
    "        left = visible_left(x, y, inp)\n",
    "        if any([up[0], down[0], right[0],left[0]]):\n",
    "            total_visible += 1\n",
    "        scores[y][x]= (up[1] * down[1] * right[1] * left[1])\n",
    "        \n",
    "print(\"Task1:\", total_visible)\n",
    "print(\"Task2:\", max([score for s in scores for score in s]))"
   ]
  }
 ],
 "metadata": {
  "kernelspec": {
   "display_name": "Python 3 (ipykernel)",
   "language": "python",
   "name": "python3"
  },
  "language_info": {
   "codemirror_mode": {
    "name": "ipython",
    "version": 3
   },
   "file_extension": ".py",
   "mimetype": "text/x-python",
   "name": "python",
   "nbconvert_exporter": "python",
   "pygments_lexer": "ipython3",
   "version": "3.10.8"
  }
 },
 "nbformat": 4,
 "nbformat_minor": 5
}
