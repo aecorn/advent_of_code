{
 "cells": [
  {
   "cell_type": "code",
   "execution_count": 236,
   "id": "b315dea8-3c67-4715-a154-a00da777083c",
   "metadata": {},
   "outputs": [],
   "source": [
    "inp_short = \"\"\"$ cd /\n",
    "$ ls\n",
    "dir a\n",
    "14848514 b.txt\n",
    "8504156 c.dat\n",
    "dir d\n",
    "$ cd a\n",
    "$ ls\n",
    "dir e\n",
    "29116 f\n",
    "2557 g\n",
    "62596 h.lst\n",
    "$ cd e\n",
    "$ ls\n",
    "584 i\n",
    "$ cd ..\n",
    "$ cd ..\n",
    "$ cd d\n",
    "$ ls\n",
    "4060174 j\n",
    "8033020 d.log\n",
    "5626152 d.ext\n",
    "7214296 k\"\"\""
   ]
  },
  {
   "cell_type": "code",
   "execution_count": 237,
   "id": "57463633-abff-41a4-a1ee-1d908051b863",
   "metadata": {},
   "outputs": [],
   "source": [
    "def nested_set(dic, keys, value):\n",
    "    for key in keys[:-1]:\n",
    "        dic = dic.setdefault(key, {})\n",
    "    if keys[-1] not in dic:\n",
    "        dic[keys[-1]] = 0\n",
    "    dic[keys[-1]] += value"
   ]
  },
  {
   "cell_type": "code",
   "execution_count": 242,
   "id": "83bc2588-cd18-4c84-bb60-662b9ebc4448",
   "metadata": {},
   "outputs": [],
   "source": [
    "def parse_cmds(inp: str) -> dict:\n",
    "    curr_path = \"\"\n",
    "    result = {}\n",
    "    for line in inp.split(\"\\n\"):\n",
    "        # Figure out current path\n",
    "        line = line.strip()\n",
    "        path_parts = [part for part in curr_path.split(\"/\")]\n",
    "        if line.startswith(\"$ cd ..\"):\n",
    "            curr_path = \"/\".join(path_parts[:-1])\n",
    "            if not curr_path:\n",
    "                curr_path = \"/\"\n",
    "        elif line.startswith(\"$ cd /\"):\n",
    "            curr_path = \"/\"\n",
    "        elif line.startswith(\"$ cd \"):\n",
    "            curr_path = (\"/\".join(path_parts) + \"/\" + line[5:]).replace(\"//\",\"/\")\n",
    "        # Record file-sizes in folders\n",
    "        if line[0].isdigit():\n",
    "            size = int(line.split(\" \")[0])\n",
    "            filename = line.split(\" \")[-1]\n",
    "            nested_set(result, \n",
    "                       [\"/\"] + [x for x in curr_path.split(\"/\") if x] + ['files'], \n",
    "                       size)\n",
    "    return result"
   ]
  },
  {
   "cell_type": "code",
   "execution_count": 243,
   "id": "06b6cb52-6113-4756-8b0f-c1c425763799",
   "metadata": {},
   "outputs": [
    {
     "data": {
      "text/plain": [
       "{'/': {'files': 23352670,\n",
       "  'a': {'files': 94269, 'e': {'files': 584}},\n",
       "  'd': {'files': 24933642}}}"
      ]
     },
     "execution_count": 243,
     "metadata": {},
     "output_type": "execute_result"
    }
   ],
   "source": [
    "structure = parse_cmds(inp_short)\n",
    "structure"
   ]
  },
  {
   "cell_type": "code",
   "execution_count": 352,
   "id": "4e805f27-6e00-4080-8621-aae78ce4ab80",
   "metadata": {},
   "outputs": [],
   "source": [
    "def folder_sizes(struct: dict, folder_size = 0):\n",
    "    for path, content in struct.items():\n",
    "        if path != \"files\":\n",
    "            if isinstance(content, dict):\n",
    "                print(path)\n",
    "                folder_size = folder_sizes(content, folder_size)\n",
    "    print(struct)\n",
    "    if \"files\" in struct.keys():\n",
    "        return struct[\"files\"] + folder_size\n",
    "    else:\n",
    "        return folder_size"
   ]
  },
  {
   "cell_type": "code",
   "execution_count": 353,
   "id": "ff238fc5-3cf0-4a1c-804b-561c035891ea",
   "metadata": {},
   "outputs": [
    {
     "name": "stdout",
     "output_type": "stream",
     "text": [
      "/\n",
      "a\n",
      "e\n",
      "{'files': 584}\n",
      "{'files': 94269, 'e': {'files': 584}}\n",
      "d\n",
      "{'files': 24933642}\n",
      "{'files': 23352670, 'a': {'files': 94269, 'e': {'files': 584}}, 'd': {'files': 24933642}}\n",
      "{'/': {'files': 23352670, 'a': {'files': 94269, 'e': {'files': 584}}, 'd': {'files': 24933642}}}\n"
     ]
    },
    {
     "data": {
      "text/plain": [
       "48381165"
      ]
     },
     "execution_count": 353,
     "metadata": {},
     "output_type": "execute_result"
    }
   ],
   "source": [
    "folder_sizes(structure)"
   ]
  },
  {
   "cell_type": "code",
   "execution_count": null,
   "id": "00d65038-cca5-45b3-a8ac-1ad95c76ee4e",
   "metadata": {},
   "outputs": [],
   "source": []
  }
 ],
 "metadata": {
  "kernelspec": {
   "display_name": "Python 3 (ipykernel)",
   "language": "python",
   "name": "python3"
  },
  "language_info": {
   "codemirror_mode": {
    "name": "ipython",
    "version": 3
   },
   "file_extension": ".py",
   "mimetype": "text/x-python",
   "name": "python",
   "nbconvert_exporter": "python",
   "pygments_lexer": "ipython3",
   "version": "3.10.8"
  }
 },
 "nbformat": 4,
 "nbformat_minor": 5
}
