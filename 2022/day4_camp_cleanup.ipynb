{
 "cells": [
  {
   "cell_type": "code",
   "execution_count": null,
   "id": "572d21c9-0ea4-4750-8183-7985be232682",
   "metadata": {},
   "outputs": [],
   "source": [
    "inp = \"\"\"2-4,6-8\n",
    "2-3,4-5\n",
    "5-7,7-9\n",
    "2-8,3-7\n",
    "6-6,4-6\n",
    "2-6,4-8\"\"\""
   ]
  },
  {
   "cell_type": "code",
   "execution_count": 5,
   "id": "49cdce47-de93-4b30-bd1b-9b25bc4a0fed",
   "metadata": {},
   "outputs": [],
   "source": [
    "with open(\"data/day4_long.txt\", \"r\") as inp_long:\n",
    "    inp = inp_long.read()"
   ]
  },
  {
   "cell_type": "code",
   "execution_count": 9,
   "id": "1afbf186-eb02-4d1e-89cc-61b38b535648",
   "metadata": {},
   "outputs": [
    {
     "name": "stdout",
     "output_type": "stream",
     "text": [
      "Task1: 475, Task2: 825\n"
     ]
    }
   ],
   "source": [
    "total_contain = 0\n",
    "total_overlap = 0\n",
    "for grp in inp.split(\"\\n\"):\n",
    "    score = 0\n",
    "    grp = grp.strip()\n",
    "    elves = grp.split(\",\")\n",
    "    elves = [[int(x) for x in elf.split(\"-\")] for elf in elves]\n",
    "    if (elves[0][0] <= elves[1][0] \n",
    "    and elves[0][1] >= elves[1][1]):\n",
    "        score = 1\n",
    "    if (elves[0][0] >= elves[1][0] \n",
    "    and elves[0][1] <= elves[1][1]):\n",
    "        score = 1\n",
    "    total_contain += score\n",
    "    overlap = range(max(elves[0][0], elves[1][0]), min(elves[0][-1], elves[1][-1])+1)\n",
    "    if len(overlap) > 0:\n",
    "        score = 1\n",
    "    total_overlap += score\n",
    "print(f'Task1: {total_contain}, Task2: {total_overlap}')"
   ]
  },
  {
   "cell_type": "code",
   "execution_count": null,
   "id": "56c483b2-bafc-4861-b5b1-2e8854d41de2",
   "metadata": {},
   "outputs": [],
   "source": []
  }
 ],
 "metadata": {
  "kernelspec": {
   "display_name": "Python 3 (ipykernel)",
   "language": "python",
   "name": "python3"
  },
  "language_info": {
   "codemirror_mode": {
    "name": "ipython",
    "version": 3
   },
   "file_extension": ".py",
   "mimetype": "text/x-python",
   "name": "python",
   "nbconvert_exporter": "python",
   "pygments_lexer": "ipython3",
   "version": "3.10.8"
  }
 },
 "nbformat": 4,
 "nbformat_minor": 5
}
