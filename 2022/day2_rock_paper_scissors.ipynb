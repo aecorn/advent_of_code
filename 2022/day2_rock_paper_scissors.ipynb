{
 "cells": [
  {
   "cell_type": "code",
   "execution_count": 1,
   "id": "3163b2f1-bafa-4e8e-8a24-87267ea10edd",
   "metadata": {},
   "outputs": [],
   "source": [
    "with open(\"data/day2_long.txt\", \"r\") as inp_long:\n",
    "    inp = inp_long.read()"
   ]
  },
  {
   "cell_type": "code",
   "execution_count": 3,
   "id": "dcb169e5-5d71-4355-8a32-e3b11a45c967",
   "metadata": {},
   "outputs": [
    {
     "name": "stdout",
     "output_type": "stream",
     "text": [
      "total=15702\n"
     ]
    }
   ],
   "source": [
    "elf_map = {\n",
    "    'A': 'Rock',\n",
    "    'B': 'Paper',\n",
    "    'C': 'Scissors'\n",
    "}\n",
    "res_map = {\n",
    "    'X': 'Lose',\n",
    "    'Y': 'Draw',\n",
    "    'Z': 'Win'}\n",
    "total = 0\n",
    "for line in inp.split('\\n'):\n",
    "    elf = line.strip().split(\" \")[0].strip()\n",
    "    elf = elf_map[elf]\n",
    "    res = line.strip().split(\" \")[-1].strip()\n",
    "    res = res_map[res]\n",
    "    if res == \"Lose\":\n",
    "        if elf == \"Rock\":\n",
    "            you = \"Scissors\"\n",
    "        elif elf == \"Paper\":\n",
    "            you = \"Rock\"\n",
    "        elif elf == \"Scissors\":\n",
    "            you = \"Paper\"\n",
    "    elif res == \"Draw\":\n",
    "        if elf == \"Rock\":\n",
    "            you = \"Rock\"\n",
    "        elif elf == \"Paper\":\n",
    "            you = \"Paper\"\n",
    "        elif elf == \"Scissors\":\n",
    "            you = \"Scissors\"\n",
    "    elif res == \"Win\":\n",
    "        if elf == \"Rock\":\n",
    "            you = \"Paper\"\n",
    "        elif elf == \"Paper\":\n",
    "            you = \"Scissors\"\n",
    "        elif elf == \"Scissors\":\n",
    "            you = \"Rock\"\n",
    "    score = 1\n",
    "    score += list(elf_map.values()).index(you)\n",
    "    score += 3*list(res_map.values()).index(res)\n",
    "    total += score\n",
    "print(f'{total=}')"
   ]
  },
  {
   "cell_type": "code",
   "execution_count": null,
   "id": "a781bbb5-3a4f-46b2-adcc-c0bc9ce53cf8",
   "metadata": {},
   "outputs": [],
   "source": []
  }
 ],
 "metadata": {
  "kernelspec": {
   "display_name": "Python 3 (ipykernel)",
   "language": "python",
   "name": "python3"
  },
  "language_info": {
   "codemirror_mode": {
    "name": "ipython",
    "version": 3
   },
   "file_extension": ".py",
   "mimetype": "text/x-python",
   "name": "python",
   "nbconvert_exporter": "python",
   "pygments_lexer": "ipython3",
   "version": "3.10.8"
  }
 },
 "nbformat": 4,
 "nbformat_minor": 5
}
