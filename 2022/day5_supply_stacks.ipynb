{
 "cells": [
  {
   "cell_type": "code",
   "execution_count": 25,
   "id": "938d879f-1b28-4b46-a71e-15adcf6838f3",
   "metadata": {},
   "outputs": [],
   "source": [
    "inp=\"\"\"    [D]    \n",
    "[N] [C]    \n",
    "[Z] [M] [P]\n",
    " 1   2   3\n",
    "\n",
    "move 1 from 2 to 1\n",
    "move 3 from 1 to 3\n",
    "move 2 from 2 to 1\n",
    "move 1 from 1 to 2\"\"\""
   ]
  },
  {
   "cell_type": "code",
   "execution_count": 26,
   "id": "bf17dfe1-f3c6-46bb-a10c-f3e457ab694b",
   "metadata": {},
   "outputs": [],
   "source": [
    "with open(\"data/day5_long.txt\", \"r\") as inp_long:\n",
    "    inp = inp_long.read()"
   ]
  },
  {
   "cell_type": "code",
   "execution_count": 27,
   "id": "8a3fd29e-cda6-4129-bf1f-5224e73bdb3a",
   "metadata": {},
   "outputs": [],
   "source": [
    "inp = inp.split(\"\\n\")\n",
    "split = inp.index(\"\")\n",
    "moves_raw = inp[split+1:]\n",
    "\n",
    "crates_raw = inp[:split-1]\n",
    "col_num = len(crates_raw[-1].replace(\" \", \"\").replace(\"[\",\"\").replace(\"]\",\"\"))\n",
    "row_num = len(crates_raw)\n",
    "# to be filled columnwise\n",
    "crates = {k+1: [] for k in range(col_num)}\n",
    "for row in range(row_num)[::-1]:\n",
    "    for col in range(1,col_num+1):\n",
    "        cell = crates_raw[row][(col*4)-3]\n",
    "        if cell != \" \":\n",
    "            crates[col].append(cell)"
   ]
  },
  {
   "cell_type": "code",
   "execution_count": 32,
   "id": "01ed5e84-ca4f-4a23-86c7-d0d691650f39",
   "metadata": {},
   "outputs": [
    {
     "name": "stdout",
     "output_type": "stream",
     "text": [
      "TGWSMRBPN\n",
      "TZLTLWRNF\n"
     ]
    }
   ],
   "source": [
    "moves = []\n",
    "crates_task1 = {k: x[:] for k, x in crates.items()}\n",
    "crates_task2 = {k: x[:] for k, x in crates.items()}\n",
    "for move in moves_raw:\n",
    "    parts = move.strip().split(\" \")\n",
    "    rep = int(parts[1])\n",
    "    src = int(parts[-3])\n",
    "    trg = int(parts[-1])\n",
    "    # Do the move\n",
    "    for _ in range(rep):\n",
    "        crates_task1[trg].append(crates_task1[src].pop())\n",
    "    crates_task2[trg] += crates_task2[src][-rep:]\n",
    "    del crates_task2[src][-rep:]\n",
    "        \n",
    "print(\"\".join([c[-1] for c in list(crates_task1.values())]))\n",
    "print(\"\".join([c[-1] for c in list(crates_task2.values())]))"
   ]
  }
 ],
 "metadata": {
  "kernelspec": {
   "display_name": "Python 3 (ipykernel)",
   "language": "python",
   "name": "python3"
  },
  "language_info": {
   "codemirror_mode": {
    "name": "ipython",
    "version": 3
   },
   "file_extension": ".py",
   "mimetype": "text/x-python",
   "name": "python",
   "nbconvert_exporter": "python",
   "pygments_lexer": "ipython3",
   "version": "3.10.8"
  }
 },
 "nbformat": 4,
 "nbformat_minor": 5
}
