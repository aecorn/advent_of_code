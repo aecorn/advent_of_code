{
 "cells": [
  {
   "cell_type": "code",
   "execution_count": 3,
   "id": "2ea172b1-843f-4a4a-bb7d-4337224dab69",
   "metadata": {},
   "outputs": [],
   "source": [
    "def unique_window(inp: str, win_length: int) -> int:\n",
    "    for c in range(win_length-1,len(inp)):\n",
    "        window = inp[c-(win_length-1):c+1]\n",
    "        if len(set(window)) == win_length:\n",
    "            return c+1"
   ]
  },
  {
   "cell_type": "code",
   "execution_count": 4,
   "id": "4957ce38-7967-4aed-96d8-98a5b3c5d678",
   "metadata": {},
   "outputs": [
    {
     "name": "stdout",
     "output_type": "stream",
     "text": [
      "5\n"
     ]
    }
   ],
   "source": [
    "inp1 = \"bvwbjplbgvbhsrlpgdmjqwftvncz\"        \n",
    "print(unique_window(inp1, 4))"
   ]
  },
  {
   "cell_type": "code",
   "execution_count": 5,
   "id": "00d12ff6-f7a7-4175-97cc-e5b1356275ae",
   "metadata": {},
   "outputs": [
    {
     "name": "stdout",
     "output_type": "stream",
     "text": [
      "19\n"
     ]
    }
   ],
   "source": [
    "inp5 = \"mjqjpqmgbljsphdztnvjfqwrcgsmlb\"\n",
    "print(unique_window(inp5, 14))"
   ]
  },
  {
   "cell_type": "code",
   "execution_count": 6,
   "id": "5e9129d7-6402-4737-83dc-1e82a1756d92",
   "metadata": {},
   "outputs": [
    {
     "name": "stdout",
     "output_type": "stream",
     "text": [
      "1210\n",
      "3476\n"
     ]
    }
   ],
   "source": [
    "with open(\"data/day6_long.txt\", \"r\") as inp_long:\n",
    "    inp = inp_long.read()\n",
    "print(unique_window(inp, 4))\n",
    "print(unique_window(inp, 14))"
   ]
  }
 ],
 "metadata": {
  "kernelspec": {
   "display_name": "Python 3 (ipykernel)",
   "language": "python",
   "name": "python3"
  },
  "language_info": {
   "codemirror_mode": {
    "name": "ipython",
    "version": 3
   },
   "file_extension": ".py",
   "mimetype": "text/x-python",
   "name": "python",
   "nbconvert_exporter": "python",
   "pygments_lexer": "ipython3",
   "version": "3.10.8"
  }
 },
 "nbformat": 4,
 "nbformat_minor": 5
}
